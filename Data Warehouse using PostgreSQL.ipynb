{
 "cells": [
  {
   "cell_type": "markdown",
   "id": "2a80c696-cc8d-4e5f-9a2e-0f00856275d2",
   "metadata": {},
   "source": [
    "## Data Warehouse using PostgreSQL"
   ]
  },
  {
   "cell_type": "markdown",
   "id": "4aae8763-89c5-4542-ab0b-69bde465469d",
   "metadata": {},
   "source": [
    "* ##### Load the SQL Extension"
   ]
  },
  {
   "cell_type": "code",
   "execution_count": null,
   "id": "0753b563-4990-48fc-a038-38c2995a5f0f",
   "metadata": {},
   "outputs": [],
   "source": [
    "%load_ext sql"
   ]
  },
  {
   "cell_type": "markdown",
   "id": "8cd7d6f8-fcc6-4204-99e6-69e02151d649",
   "metadata": {},
   "source": [
    "* ##### Connect to the PostgreSQL Database"
   ]
  },
  {
   "cell_type": "code",
   "execution_count": 2,
   "id": "c3961191-50c0-4748-a68f-80cb4dec1915",
   "metadata": {},
   "outputs": [],
   "source": [
    "\n",
    "%sql postgresql://postgres: password@localhost:5432/billingAD"
   ]
  },
  {
   "cell_type": "markdown",
   "id": "9c40da3a-3b8f-488c-929b-3bb30ad01aba",
   "metadata": {},
   "source": [
    "* ##### Create a database named billingAD."
   ]
  },
  {
   "cell_type": "code",
   "execution_count": null,
   "id": "c44b5b2a-871f-481d-b37b-f98b07dc799c",
   "metadata": {},
   "outputs": [],
   "source": [
    "createdb -h localhost -U postgres -p 5432 billingAD\n"
   ]
  },
  {
   "cell_type": "markdown",
   "id": "92eb2fbb-d684-49f8-bc9c-56df2d722974",
   "metadata": {},
   "source": [
    "* ##### Create the schema"
   ]
  },
  {
   "cell_type": "code",
   "execution_count": null,
   "id": "b733fd87-edb7-4ea6-b73a-822df469a575",
   "metadata": {},
   "outputs": [],
   "source": [
    "CREATE TABLE public.\"FactBilling\"\n",
    "(\n",
    "    billid integer NOT NULL,\n",
    "    customerid integer NOT NULL,\n",
    "    monthid integer NOT NULL,\n",
    "    billedamount integer NOT NULL,\n",
    "    PRIMARY KEY (billid)\n",
    ");\n",
    "\n",
    "CREATE TABLE public.\"DimMonth\"\n",
    "(\n",
    "    monthid integer NOT NULL,\n",
    "    year integer NOT NULL,\n",
    "    month integer NOT NULL,\n",
    "    monthname VARCHAR(50) NOT NULL,\n",
    "    quarter integer NOT NULL,\n",
    "    quartername VARCHAR(50) NOT NULL,\n",
    "    PRIMARY KEY (monthid)\n",
    ");\n",
    "\n",
    "CREATE TABLE public.\"DimCustomer\"\n",
    "(\n",
    "    customerid integer NOT NULL,\n",
    "    category VARCHAR(50) NOT NULL,\n",
    "    country VARCHAR(50) NOT NULL,\n",
    "    industry VARCHAR(50) NOT NULL,\n",
    "    PRIMARY KEY (customerid)\n",
    ");\n",
    "\n",
    "ALTER TABLE public.\"FactBilling\"\n",
    "    ADD FOREIGN KEY (customerid)\n",
    "    REFERENCES public.\"DimCustomer\" (customerid);\n",
    "\n",
    "ALTER TABLE public.\"FactBilling\"\n",
    "    ADD FOREIGN KEY (monthid)\n",
    "    REFERENCES public.\"DimMonth\" (monthid);"
   ]
  },
  {
   "cell_type": "code",
   "execution_count": null,
   "id": "8a8c5190-1e5c-43fa-b4ee-1f154a880bdc",
   "metadata": {},
   "outputs": [],
   "source": [
    "# Load the data into FactBilling table in billingDW database.\n",
    "#  psql -h localhost -U postgres -p 5432 -d billingAD -f  FactBilling.sql\n",
    "\n",
    "# Load the data into DimCustomer table in billingAD database.\n",
    "#  psql -h localhost -U postgres -p 5432 -d billingAD -f DimCustomer.sql\n",
    "\n",
    "# Load the data into DimMonth table in billingDW database.\n",
    "#  psql -h localhost -U postgres -p 5432 -d billingAD -f DimMonth.sql"
   ]
  },
  {
   "cell_type": "code",
   "execution_count": null,
   "id": "6c8c8a0f-496e-4d88-813d-9a6d8cd00845",
   "metadata": {},
   "outputs": [],
   "source": [
    "%%sql\n",
    "SELECT * FROM  \"FactBilling\" LIMIT 5;"
   ]
  },
  {
   "cell_type": "code",
   "execution_count": null,
   "id": "f56ccc32-a08a-467f-9f97-f6b208c4b70a",
   "metadata": {},
   "outputs": [],
   "source": [
    "!pip install psycopg2\n"
   ]
  },
  {
   "cell_type": "code",
   "execution_count": null,
   "id": "05db0106-9488-475d-8872-43cfb62faf71",
   "metadata": {},
   "outputs": [],
   "source": [
    "!python3 dbconnect.py"
   ]
  },
  {
   "cell_type": "code",
   "execution_count": 11,
   "id": "7c5f47af-01f6-48ec-9a75-fba6fc36f94f",
   "metadata": {},
   "outputs": [],
   "source": [
    "import os\n",
    "os.environ['POSTGRES_PASSWORD'] = 'password'"
   ]
  },
  {
   "cell_type": "code",
   "execution_count": 12,
   "id": "46c3a6d1-ea4f-4917-b39d-1f6217267388",
   "metadata": {},
   "outputs": [
    {
     "name": "stdout",
     "output_type": "stream",
     "text": [
      "Successfully connected to warehouse\n",
      "Connection closed\n"
     ]
    }
   ],
   "source": [
    "!python3 dbconnect.py"
   ]
  },
  {
   "cell_type": "code",
   "execution_count": null,
   "id": "fa593202-ade8-4867-89df-52382348c1d0",
   "metadata": {},
   "outputs": [],
   "source": [
    "!python3 -m pip install pandas tabulate"
   ]
  },
  {
   "cell_type": "code",
   "execution_count": 18,
   "id": "d335fbc0-2afe-4b8a-9e49-b3cf867cbcbe",
   "metadata": {},
   "outputs": [],
   "source": [
    "!python3 mytests.py"
   ]
  },
  {
   "cell_type": "code",
   "execution_count": 19,
   "id": "1d900132-75ce-420b-8d6c-3aaa3d31aaf4",
   "metadata": {
    "scrolled": true
   },
   "outputs": [
    {
     "name": "stdout",
     "output_type": "stream",
     "text": [
      "Connected to data warehouse\n",
      "**************************************************\n",
      "Fri Jun  7 11:53:17 2024\n",
      "Starting test Check for nulls\n",
      "Finished test Check for nulls\n",
      "Test Passed True\n",
      "Test Parameters\n",
      "column = monthid\n",
      "table = DimMonth\n",
      "\n",
      "Duration :  0.016010761260986328\n",
      "Fri Jun  7 11:53:17 2024\n",
      "**************************************************\n",
      "**************************************************\n",
      "Fri Jun  7 11:53:17 2024\n",
      "Starting test Check for min and max\n",
      "Finished test Check for min and max\n",
      "Test Passed True\n",
      "Test Parameters\n",
      "column = month\n",
      "table = DimMonth\n",
      "minimum = 1\n",
      "maximum = 12\n",
      "\n",
      "Duration :  0.0\n",
      "Fri Jun  7 11:53:17 2024\n",
      "**************************************************\n",
      "**************************************************\n",
      "Fri Jun  7 11:53:17 2024\n",
      "Starting test Check for valid values\n",
      "{'C', 'I'}\n",
      "Finished test Check for valid values\n",
      "Test Passed False\n",
      "Test Parameters\n",
      "column = category\n",
      "table = DimCustomer\n",
      "valid_values = {'Individual', 'Company'}\n",
      "\n",
      "Duration :  0.0\n",
      "Fri Jun  7 11:53:17 2024\n",
      "**************************************************\n",
      "**************************************************\n",
      "Fri Jun  7 11:53:17 2024\n",
      "Starting test Check for duplicates\n",
      "Finished test Check for duplicates\n",
      "Test Passed True\n",
      "Test Parameters\n",
      "column = monthid\n",
      "table = DimMonth\n",
      "\n",
      "Duration :  0.0\n",
      "Fri Jun  7 11:53:17 2024\n",
      "**************************************************\n",
      "+----+------------------------+-------------+----------+---------------+\n",
      "|    | Test Name              | Table       | Column   | Test Passed   |\n",
      "|----+------------------------+-------------+----------+---------------|\n",
      "|  1 | Check for nulls        | DimMonth    | monthid  | True          |\n",
      "|  2 | Check for min and max  | DimMonth    | month    | True          |\n",
      "|  3 | Check for valid values | DimCustomer | category | False         |\n",
      "|  4 | Check for duplicates   | DimMonth    | monthid  | True          |\n",
      "+----+------------------------+-------------+----------+---------------+\n",
      "Disconnected from data warehouse\n"
     ]
    }
   ],
   "source": [
    "!python3 generate-data-quality-report.py\n"
   ]
  },
  {
   "cell_type": "markdown",
   "id": "1e7ee3e3-839a-42db-820a-5aa5b8814ad5",
   "metadata": {},
   "source": [
    " ### Cubes, Rollups, Grouping Sets and Materialized Views"
   ]
  },
  {
   "cell_type": "code",
   "execution_count": null,
   "id": "ec70e498-9fe8-4773-a1e1-223726f3ce16",
   "metadata": {},
   "outputs": [],
   "source": [
    "%%sql\n",
    "SELECT year, category, sum(billedamount) as totalbilledamount\n",
    "FROM \"FactBilling\"\n",
    "LEFT JOIN \"DimCustomer\" ON \"FactBilling\".customerid = \"DimCustomer\".customerid\n",
    "LEFT JOIN \"DimMonth\" ON \"FactBilling\".monthid=\"DimMonth\".monthid\n",
    "GROUP BY CUBE(year, category)\n",
    "ORDER BY year, category;"
   ]
  },
  {
   "cell_type": "code",
   "execution_count": null,
   "id": "6dede8d3-9539-4caf-ae80-4f01f8f875ad",
   "metadata": {},
   "outputs": [],
   "source": [
    "%%sql\n",
    "SELECT year,category, sum(billedamount) as totalbilledamount\n",
    "from \"FactBilling\"\n",
    "left join \"DimCustomer\"\n",
    "on \"FactBilling\".customerid = \"DimCustomer\".customerid\n",
    "left join \"DimMonth\"\n",
    "on \"FactBilling\".monthid=\"DimMonth\".monthid\n",
    "group by grouping sets(year,category);"
   ]
  },
  {
   "cell_type": "code",
   "execution_count": null,
   "id": "c2a09582-2291-4a5b-8f2a-ea56e1b0bc1c",
   "metadata": {},
   "outputs": [],
   "source": [
    "%%sql\n",
    "select year,category, sum(billedamount) as totalbilledamount\n",
    "from \"FactBilling\"\n",
    "left join \"DimCustomer\"\n",
    "on \"FactBilling\".customerid = \"DimCustomer\".customerid\n",
    "left join \"DimMonth\"\n",
    "on \"FactBilling\".monthid=\"DimMonth\".monthid\n",
    "group by rollup(year,category)\n",
    "order by year, category;"
   ]
  },
  {
   "cell_type": "code",
   "execution_count": null,
   "id": "19280015-07dd-4c62-b133-459f49c5e1d8",
   "metadata": {},
   "outputs": [],
   "source": [
    "%%sql\n",
    "select year,category, sum(billedamount) as totalbilledamount\n",
    "from \"FactBilling\"\n",
    "left join \"DimCustomer\"\n",
    "on \"FactBilling\".customerid = \"DimCustomer\".customerid\n",
    "left join \"DimMonth\"\n",
    "on \"FactBilling\".monthid=\"DimMonth\".monthid\n",
    "group by cube(year,category)\n",
    "order by year, category;"
   ]
  },
  {
   "cell_type": "code",
   "execution_count": null,
   "id": "7dfaf04a-d2a1-4c24-b9e8-89c33cd93d77",
   "metadata": {},
   "outputs": [],
   "source": [
    "%%sql\n",
    "CREATE MATERIALIZED VIEW countrystatss (country, year, totalbilledamount) AS\n",
    "(select country, year, sum(billedamount)\n",
    "from \"FactBilling\"\n",
    "left join \"DimCustomer\"\n",
    "on \"FactBilling\".customerid = \"DimCustomer\".customerid\n",
    "left join \"DimMonth\"\n",
    "on \"FactBilling\".monthid=\"DimMonth\".monthid\n",
    "group by country,year);  "
   ]
  },
  {
   "cell_type": "code",
   "execution_count": null,
   "id": "1f9140bb-4b5c-4d79-9269-b36c40846dac",
   "metadata": {},
   "outputs": [],
   "source": [
    " #  You should see these results :  231 rows affected."
   ]
  },
  {
   "cell_type": "code",
   "execution_count": null,
   "id": "6a6ce2c1-6f81-4469-8ccf-7162d8a141b7",
   "metadata": {},
   "outputs": [],
   "source": [
    "%%sql\n",
    "REFRESH MATERIALIZED VIEW countrystats;"
   ]
  },
  {
   "cell_type": "code",
   "execution_count": null,
   "id": "7150cb83-5938-479b-9ebc-5b3b2821265c",
   "metadata": {},
   "outputs": [],
   "source": [
    " #  You should see these resultsv  :  Done "
   ]
  },
  {
   "cell_type": "code",
   "execution_count": null,
   "id": "b14be843-f309-4c0e-be56-df3bd1e41536",
   "metadata": {},
   "outputs": [],
   "source": [
    "%%sql\n",
    "select * from countrystats;"
   ]
  }
 ],
 "metadata": {
  "kernelspec": {
   "display_name": "Python 3 (ipykernel)",
   "language": "python",
   "name": "python3"
  },
  "language_info": {
   "codemirror_mode": {
    "name": "ipython",
    "version": 3
   },
   "file_extension": ".py",
   "mimetype": "text/x-python",
   "name": "python",
   "nbconvert_exporter": "python",
   "pygments_lexer": "ipython3",
   "version": "3.10.11"
  }
 },
 "nbformat": 4,
 "nbformat_minor": 5
}
